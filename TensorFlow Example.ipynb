{
 "cells": [
  {
   "cell_type": "code",
   "execution_count": 1,
   "metadata": {
    "collapsed": true
   },
   "outputs": [],
   "source": [
    "import tensorflow as tf\n",
    "import numpy as np"
   ]
  },
  {
   "cell_type": "code",
   "execution_count": 2,
   "metadata": {
    "collapsed": true
   },
   "outputs": [],
   "source": [
    "x_data = np.random.rand(100).astype(np.float32)"
   ]
  },
  {
   "cell_type": "code",
   "execution_count": 3,
   "metadata": {
    "collapsed": true
   },
   "outputs": [],
   "source": [
    "y_data = x_data*0.1+0.3"
   ]
  },
  {
   "cell_type": "code",
   "execution_count": 4,
   "metadata": {
    "collapsed": true
   },
   "outputs": [],
   "source": [
    "Weights = tf.Variable(tf.random_uniform([1],-1.0,1.0))\n",
    "biases = tf.Variable(tf.zeros([1]))"
   ]
  },
  {
   "cell_type": "code",
   "execution_count": 11,
   "metadata": {
    "collapsed": false
   },
   "outputs": [],
   "source": [
    "y = Weights*x_data + biases\n",
    "\n",
    "#建立 loss 規則\n",
    "loss = tf.reduce_mean(tf.square(y-y_data))\n",
    "\n",
    "#選擇學習機制\n",
    "optimizer = tf.train.GradientDescentOptimizer(0.5)  #learning rate\n",
    "\n",
    "#像tensorflow 說 訓練規則就是把 loss 減到最小 最好是0\n",
    "train = optimizer.minimize(loss)\n",
    "\n",
    "#初始化所有變數\n",
    "init = tf.global_variables_initializer()\n"
   ]
  },
  {
   "cell_type": "code",
   "execution_count": 12,
   "metadata": {
    "collapsed": true
   },
   "outputs": [],
   "source": [
    "sess = tf.Session()\n",
    "\n",
    "#記得初始化\n",
    "sess.run(init)"
   ]
  },
  {
   "cell_type": "code",
   "execution_count": 13,
   "metadata": {
    "collapsed": false
   },
   "outputs": [
    {
     "name": "stdout",
     "output_type": "stream",
     "text": [
      "0 [-0.38393438] [ 0.85525769]\n",
      "10 [-0.18417136] [ 0.46368071]\n",
      "20 [-0.03380292] [ 0.37706855]\n",
      "30 [ 0.0369987] [ 0.33628786]\n",
      "40 [ 0.07033576] [ 0.31708619]\n",
      "50 [ 0.08603255] [ 0.30804506]\n",
      "60 [ 0.09342342] [ 0.30378804]\n",
      "70 [ 0.09690339] [ 0.30178362]\n",
      "80 [ 0.09854195] [ 0.30083981]\n",
      "90 [ 0.09931348] [ 0.30039546]\n",
      "100 [ 0.09967675] [ 0.30018622]\n",
      "110 [ 0.09984779] [ 0.30008769]\n",
      "120 [ 0.09992836] [ 0.30004129]\n",
      "130 [ 0.09996627] [ 0.30001944]\n",
      "140 [ 0.09998412] [ 0.30000916]\n",
      "150 [ 0.09999253] [ 0.3000043]\n",
      "160 [ 0.09999649] [ 0.30000204]\n",
      "170 [ 0.09999835] [ 0.30000097]\n",
      "180 [ 0.09999923] [ 0.30000046]\n",
      "190 [ 0.09999963] [ 0.30000022]\n",
      "200 [ 0.09999982] [ 0.3000001]\n"
     ]
    }
   ],
   "source": [
    "for step in range(201):\n",
    "    sess.run(train)\n",
    "    if step % 10 ==0:\n",
    "        print(step,sess.run(Weights),sess.run(biases))"
   ]
  }
 ],
 "metadata": {
  "anaconda-cloud": {},
  "kernelspec": {
   "display_name": "Python [conda root]",
   "language": "python",
   "name": "conda-root-py"
  },
  "language_info": {
   "codemirror_mode": {
    "name": "ipython",
    "version": 3
   },
   "file_extension": ".py",
   "mimetype": "text/x-python",
   "name": "python",
   "nbconvert_exporter": "python",
   "pygments_lexer": "ipython3",
   "version": "3.5.2"
  }
 },
 "nbformat": 4,
 "nbformat_minor": 1
}
